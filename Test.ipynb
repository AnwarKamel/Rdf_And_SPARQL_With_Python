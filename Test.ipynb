{
 "cells": [
  {
   "cell_type": "code",
   "execution_count": 4,
   "metadata": {
    "scrolled": true
   },
   "outputs": [
    {
     "name": "stdout",
     "output_type": "stream",
     "text": [
      "Requirement already satisfied: rdflib in c:\\users\\linuxpc\\anaconda3\\lib\\site-packages (5.0.0)"
     ]
    },
    {
     "name": "stderr",
     "output_type": "stream",
     "text": [
      "WARNING: You are using pip version 20.3.3; however, version 21.0.1 is available.\n",
      "You should consider upgrading via the 'C:\\Users\\LinuxPC\\anaconda3\\python.exe -m pip install --upgrade pip' command.\n"
     ]
    },
    {
     "name": "stdout",
     "output_type": "stream",
     "text": [
      "\n",
      "Requirement already satisfied: isodate in c:\\users\\linuxpc\\anaconda3\\lib\\site-packages (from rdflib) (0.6.0)\n",
      "Requirement already satisfied: pyparsing in c:\\users\\linuxpc\\anaconda3\\lib\\site-packages (from rdflib) (2.4.7)\n",
      "Requirement already satisfied: six in c:\\users\\linuxpc\\anaconda3\\lib\\site-packages (from rdflib) (1.15.0)\n"
     ]
    }
   ],
   "source": [
    "!pip install rdflib"
   ]
  },
  {
   "cell_type": "code",
   "execution_count": 68,
   "metadata": {},
   "outputs": [],
   "source": [
    "from rdflib import Graph, URIRef\n",
    "from rdflib.namespace import RDFS, SKOS"
   ]
  },
  {
   "cell_type": "code",
   "execution_count": 69,
   "metadata": {},
   "outputs": [
    {
     "data": {
      "text/plain": [
       "<Graph identifier=N866e157708f14a6088d88f7b638f44b5 (<class 'rdflib.graph.Graph'>)>"
      ]
     },
     "execution_count": 69,
     "metadata": {},
     "output_type": "execute_result"
    }
   ],
   "source": [
    "g = Graph()\n",
    "g.parse('https://www.wikidata.org/wiki/Special:EntityData/Q1395194.ttl')"
   ]
  },
  {
   "cell_type": "code",
   "execution_count": 70,
   "metadata": {},
   "outputs": [
    {
     "data": {
      "text/plain": [
       "25094"
      ]
     },
     "execution_count": 70,
     "metadata": {},
     "output_type": "execute_result"
    }
   ],
   "source": [
    "len(g)"
   ]
  },
  {
   "cell_type": "code",
   "execution_count": 71,
   "metadata": {},
   "outputs": [
    {
     "name": "stdout",
     "output_type": "stream",
     "text": [
      "Arbi Ben M’Hidi de\n",
      "Arbi Ben M'Hidi de\n",
      "العربي بن المهيدي ar\n",
      "Ben M'hidi de\n",
      "Larbi Ben M’Hidi de\n",
      "Larbi Men M'Hidi fr\n",
      "Larbi Ben M’Hidi fr\n",
      "Larbi Ben M’hidi br\n"
     ]
    }
   ],
   "source": [
    "LB = URIRef('http://www.wikidata.org/entity/Q1395194')\n",
    "for label in g.objects(LB, SKOS.altLabel):\n",
    "    print(label.value, label.language)"
   ]
  },
  {
   "cell_type": "code",
   "execution_count": 72,
   "metadata": {},
   "outputs": [
    {
     "name": "stdout",
     "output_type": "stream",
     "text": [
      "Arbi Ben M’Hidi de\n",
      "Arbi Ben M'Hidi de\n",
      "العربي بن المهيدي ar\n",
      "Ben M'hidi de\n",
      "Larbi Ben M’Hidi de\n",
      "Larbi Men M'Hidi fr\n",
      "Larbi Ben M’Hidi fr\n",
      "Larbi Ben M’hidi br\n"
     ]
    }
   ],
   "source": [
    "labels = g.preferredLabel(LB, labelProperties=(SKOS.altLabel,))\n",
    "for prop, label in labels:\n",
    "    print(label.value, label.language)"
   ]
  },
  {
   "cell_type": "code",
   "execution_count": 73,
   "metadata": {},
   "outputs": [
    {
     "name": "stdout",
     "output_type": "stream",
     "text": [
      "Arbi Ben M’Hidi de\n",
      "Arbi Ben M'Hidi de\n",
      "العربي بن المهيدي ar\n",
      "Ben M'hidi de\n",
      "Larbi Ben M’Hidi de\n",
      "Larbi Men M'Hidi fr\n",
      "Larbi Ben M’Hidi fr\n",
      "Larbi Ben M’hidi br\n"
     ]
    }
   ],
   "source": [
    "qres = g.query('''\n",
    "    SELECT ?label\n",
    "    WHERE {\n",
    "        wd:Q1395194 skos:altLabel ?label .\n",
    "    }\n",
    "''')\n",
    "for label, *_ in qres:\n",
    "    print(label.value, label.language)"
   ]
  },
  {
   "cell_type": "code",
   "execution_count": 74,
   "metadata": {},
   "outputs": [
    {
     "name": "stdout",
     "output_type": "stream",
     "text": [
      "العربي بن المهيدي\n",
      "العربي بن مهيدي\n"
     ]
    }
   ],
   "source": [
    "qres = g.query('''\n",
    "    SELECT DISTINCT ?label \n",
    "    WHERE {\n",
    "        wd:Q1395194 rdfs:label | skos:prefLabel | skos:altLabel ?label .\n",
    "        wd:Q3561 a wikibase:Item.\n",
    "    \n",
    "        FILTER (lang(?label) = 'ar')\n",
    "    }\n",
    "    ORDER BY ?label\n",
    "''')\n",
    "for label, *_ in qres:\n",
    "    print(label)"
   ]
  },
  {
   "cell_type": "code",
   "execution_count": 75,
   "metadata": {},
   "outputs": [
    {
     "name": "stdout",
     "output_type": "stream",
     "text": [
      "place of birth\n"
     ]
    }
   ],
   "source": [
    "\n",
    "qres = g.query('''\n",
    "    SELECT DISTINCT ?label \n",
    "    WHERE {\n",
    "        wd:P19 rdfs:label ?label .\n",
    "  \n",
    "        FILTER (lang(?label) = 'en')\n",
    "    }\n",
    "    ORDER BY ?label\n",
    "''')\n",
    "for label, *_ in qres:\n",
    "    print(label)"
   ]
  },
  {
   "cell_type": "code",
   "execution_count": null,
   "metadata": {},
   "outputs": [],
   "source": []
  },
  {
   "cell_type": "code",
   "execution_count": 76,
   "metadata": {},
   "outputs": [
    {
     "name": "stdout",
     "output_type": "stream",
     "text": [
      "Algiers\n"
     ]
    }
   ],
   "source": [
    "qres = g.query('''\n",
    "    SELECT DISTINCT ?place\n",
    "    WHERE {\n",
    "        wd:Q3561 a wikibase:Item.\n",
    "        wd:Q3561 rdfs:label ?place.\n",
    "        FILTER (lang(?place) = 'en')\n",
    "    }\n",
    "  \n",
    "''')\n",
    "for place, *_ in qres:\n",
    "    print(place)"
   ]
  },
  {
   "cell_type": "code",
   "execution_count": null,
   "metadata": {},
   "outputs": [],
   "source": []
  },
  {
   "cell_type": "code",
   "execution_count": 77,
   "metadata": {},
   "outputs": [
    {
     "name": "stdout",
     "output_type": "stream",
     "text": [
      "106 µs ± 11.9 µs per loop (mean ± std. dev. of 7 runs, 1000 loops each)\n"
     ]
    }
   ],
   "source": [
    "%timeit -n 1000 list(g.objects(MJ, RDFS.label))"
   ]
  },
  {
   "cell_type": "code",
   "execution_count": 78,
   "metadata": {},
   "outputs": [
    {
     "name": "stdout",
     "output_type": "stream",
     "text": [
      "116 µs ± 8.46 µs per loop (mean ± std. dev. of 7 runs, 1000 loops each)\n"
     ]
    }
   ],
   "source": [
    "%timeit -n 1000 g.preferredLabel(MJ, labelProperties=(RDFS.label,))"
   ]
  },
  {
   "cell_type": "code",
   "execution_count": 79,
   "metadata": {},
   "outputs": [
    {
     "name": "stdout",
     "output_type": "stream",
     "text": [
      "4.23 ms ± 150 µs per loop (mean ± std. dev. of 7 runs, 1000 loops each)\n"
     ]
    }
   ],
   "source": [
    "\n",
    "%timeit -n 1000 g.query('SELECT ?label WHERE {wd:Q2831 rdfs:label ?label}')"
   ]
  },
  {
   "cell_type": "code",
   "execution_count": null,
   "metadata": {},
   "outputs": [],
   "source": []
  },
  {
   "cell_type": "code",
   "execution_count": null,
   "metadata": {},
   "outputs": [],
   "source": []
  },
  {
   "cell_type": "code",
   "execution_count": null,
   "metadata": {},
   "outputs": [],
   "source": []
  },
  {
   "cell_type": "code",
   "execution_count": null,
   "metadata": {},
   "outputs": [],
   "source": []
  },
  {
   "cell_type": "code",
   "execution_count": null,
   "metadata": {},
   "outputs": [],
   "source": []
  }
 ],
 "metadata": {
  "kernelspec": {
   "display_name": "Python 3",
   "language": "python",
   "name": "python3"
  },
  "language_info": {
   "codemirror_mode": {
    "name": "ipython",
    "version": 3
   },
   "file_extension": ".py",
   "mimetype": "text/x-python",
   "name": "python",
   "nbconvert_exporter": "python",
   "pygments_lexer": "ipython3",
   "version": "3.8.3"
  }
 },
 "nbformat": 4,
 "nbformat_minor": 4
}
